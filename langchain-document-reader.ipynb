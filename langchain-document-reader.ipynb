{
 "cells": [
  {
   "cell_type": "code",
   "execution_count": 30,
   "metadata": {},
   "outputs": [
    {
     "name": "stderr",
     "output_type": "stream",
     "text": [
      "1655.92s - pydevd: Sending message related to process being replaced timed-out after 5 seconds\n"
     ]
    },
    {
     "name": "stdout",
     "output_type": "stream",
     "text": [
      "Note: you may need to restart the kernel to use updated packages.\n"
     ]
    },
    {
     "name": "stderr",
     "output_type": "stream",
     "text": [
      "1662.12s - pydevd: Sending message related to process being replaced timed-out after 5 seconds\n"
     ]
    },
    {
     "name": "stdout",
     "output_type": "stream",
     "text": [
      "Requirement already satisfied: duckduckgo-search in /opt/anaconda3/envs/llama_index_recursive/lib/python3.11/site-packages (6.3.0)\n",
      "Requirement already satisfied: click>=8.1.7 in /opt/anaconda3/envs/llama_index_recursive/lib/python3.11/site-packages (from duckduckgo-search) (8.1.7)\n",
      "Requirement already satisfied: primp>=0.6.3 in /opt/anaconda3/envs/llama_index_recursive/lib/python3.11/site-packages (from duckduckgo-search) (0.6.3)\n",
      "Note: you may need to restart the kernel to use updated packages.\n"
     ]
    },
    {
     "name": "stderr",
     "output_type": "stream",
     "text": [
      "1668.31s - pydevd: Sending message related to process being replaced timed-out after 5 seconds\n"
     ]
    },
    {
     "name": "stdout",
     "output_type": "stream",
     "text": [
      "Note: you may need to restart the kernel to use updated packages.\n"
     ]
    }
   ],
   "source": [
    "# Install necessary packages\n",
    "%pip install -qU pypdf==4.0.1 langchain_community\n",
    "%pip install -U duckduckgo-search\n",
    "%pip install -qU langchain-openai"
   ]
  },
  {
   "cell_type": "code",
   "execution_count": 64,
   "metadata": {},
   "outputs": [],
   "source": [
    "# Import required libraries\n",
    "import os\n",
    "from langchain_community.document_loaders import PyPDFLoader\n",
    "from langchain.agents import initialize_agent, AgentType\n",
    "from langchain.tools import DuckDuckGoSearchResults, StructuredTool  # Import StructuredTool\n",
    "from langchain_core.prompts import ChatPromptTemplate\n",
    "from langchain_openai import ChatOpenAI, OpenAIEmbeddings\n",
    "from langchain_core.vectorstores import InMemoryVectorStore\n",
    "from langchain_text_splitters import RecursiveCharacterTextSplitter\n",
    "from langchain.chains import RetrievalQA\n",
    "from langchain_core.tools import Tool\n",
    "from pydantic import BaseModel, Field  # Import Pydantic BaseModel"
   ]
  },
  {
   "cell_type": "code",
   "execution_count": 65,
   "metadata": {},
   "outputs": [],
   "source": [
    "# Load the PDF document\n",
    "file_path = \"../../data/414759-1-_5_Nike-NPS-Combo_Form-10-K_WR.pdf\"\n",
    "loader = PyPDFLoader(file_path)\n",
    "docs = loader.load()"
   ]
  },
  {
   "cell_type": "code",
   "execution_count": 67,
   "metadata": {},
   "outputs": [
    {
     "name": "stdout",
     "output_type": "stream",
     "text": [
      "106\n",
      "FORM 10-K FORM 10-K\n",
      "{'source': '../../data/414759-1-_5_Nike-NPS-Combo_Form-10-K_WR.pdf', 'page': 0}\n"
     ]
    }
   ],
   "source": [
    "# Display basic information about the document\n",
    "print(len(docs))\n",
    "print(docs[0].page_content[0:100])\n",
    "print(docs[0].metadata)\n",
    "\n",
    "# Set up the OpenAI API key\n",
    "api_key = \"\"\n",
    "os.environ[\"OPENAI_API_KEY\"] = api_key\n",
    "os.environ[\"API_KEY_OPENAI\"] = api_key"
   ]
  },
  {
   "cell_type": "code",
   "execution_count": 68,
   "metadata": {},
   "outputs": [],
   "source": [
    "# Initialize the language model\n",
    "llm = ChatOpenAI(model=\"gpt-4\")"
   ]
  },
  {
   "cell_type": "code",
   "execution_count": 69,
   "metadata": {},
   "outputs": [],
   "source": [
    "# Split the document into manageable chunks and create a vector store\n",
    "text_splitter = RecursiveCharacterTextSplitter(chunk_size=1000, chunk_overlap=200)\n",
    "splits = text_splitter.split_documents(docs)\n",
    "vectorstore = InMemoryVectorStore.from_documents(\n",
    "    documents=splits, embedding=OpenAIEmbeddings()\n",
    ")\n",
    "retriever = vectorstore.as_retriever()"
   ]
  },
  {
   "cell_type": "code",
   "execution_count": 70,
   "metadata": {},
   "outputs": [],
   "source": [
    "# Step 3: Define the revenue growth calculation tool with input schema\n",
    "# Define the input schema using Pydantic\n",
    "class RevenueGrowthInput(BaseModel):\n",
    "    revenue_new: float = Field(..., description=\"Revenue in the new year\")\n",
    "    revenue_old: float = Field(..., description=\"Revenue in the old year\")\n",
    "\n",
    "# Define the revenue growth calculation function\n",
    "def calculate_revenue_growth(revenue_new: float, revenue_old: float) -> float:\n",
    "    \"\"\"Calculates revenue growth from the old year to the new year.\"\"\"\n",
    "    return ((revenue_new - revenue_old) / revenue_old) * 100\n",
    "\n",
    "# Update the tool definition using StructuredTool\n",
    "calculate_growth_tool = StructuredTool.from_function(\n",
    "    func=calculate_revenue_growth,\n",
    "    name=\"Revenue Growth Calculator\",\n",
    "    description=(\n",
    "        \"Calculates the revenue growth percentage between two years. \"\n",
    "        \"Requires 'revenue_new' and 'revenue_old' as inputs.\"\n",
    "    ),\n",
    "    args_schema=RevenueGrowthInput\n",
    ")\n",
    "\n",
    "# Define the DuckDuckGo search tool with updated description\n",
    "web_search_tool = DuckDuckGoSearchResults(\n",
    "    name=\"Web Search\",\n",
    "    description=(\n",
    "        \"Use this tool to search the web for financial information such as revenue figures \"\n",
    "        \"if they are not found in the document.\"\n",
    "    )\n",
    ")\n",
    "\n",
    "\n",
    "# Step 1: Create a RetrievalQA Chain\n",
    "qa_chain = RetrievalQA.from_chain_type(\n",
    "    llm=llm,\n",
    "    chain_type=\"stuff\",  # You can choose 'stuff', 'map_reduce', etc.\n",
    "    retriever=retriever\n",
    ")\n",
    "\n",
    "# Step 2: Wrap the RetrievalQA Chain into a Tool\n",
    "qa_tool = Tool(\n",
    "    name=\"Document QA\",\n",
    "    func=qa_chain.run,\n",
    "    description=(\n",
    "        \"Use this tool to find financial information, such as revenue figures, \"\n",
    "        \"from the company's PDF document.\"\n",
    "    )\n",
    ")"
   ]
  },
  {
   "cell_type": "code",
   "execution_count": 71,
   "metadata": {},
   "outputs": [],
   "source": [
    "# Step 4: Update the Tools List\n",
    "tools = [calculate_growth_tool, web_search_tool, qa_tool]"
   ]
  },
  {
   "cell_type": "code",
   "execution_count": 72,
   "metadata": {},
   "outputs": [],
   "source": [
    "# Step 5: Define the system message to guide the agent\n",
    "system_message = \"\"\"\n",
    "You are an assistant that helps answer financial questions about a company.\n",
    "\n",
    "When given a question, you should:\n",
    "\n",
    "1. Determine if any information is missing that is needed to answer the question.\n",
    "\n",
    "2. If information is missing, first try to find it using the 'Document QA' tool.\n",
    "\n",
    "3. If the information is not found in the document, then try to find it using the 'Web Search' tool.\n",
    "\n",
    "4. Once you have all the necessary information, use the appropriate tool to compute or provide the answer.\n",
    "\n",
    "Use the tools as needed, and be sure to provide the final answer to the user.\n",
    "\"\"\"\n",
    "\n",
    "# Step 6: Initialize the agent with the custom system message\n",
    "agent_kwargs = {\n",
    "    \"system_message\": system_message\n",
    "}\n",
    "\n",
    "agent_chain = initialize_agent(\n",
    "    tools=tools,\n",
    "    llm=llm,\n",
    "    agent=AgentType.STRUCTURED_CHAT_ZERO_SHOT_REACT_DESCRIPTION,\n",
    "    verbose=True,\n",
    "    agent_kwargs=agent_kwargs\n",
    ")"
   ]
  },
  {
   "cell_type": "code",
   "execution_count": 73,
   "metadata": {},
   "outputs": [
    {
     "name": "stdout",
     "output_type": "stream",
     "text": [
      "\n",
      "\n",
      "\u001b[1m> Entering new AgentExecutor chain...\u001b[0m\n",
      "\u001b[32;1m\u001b[1;3mThe user didn't provide specific revenue figures for 2022 and 2023, so I will need to find this information first. I will use the Document QA tool to search the document for the 2022 and 2023 revenue figures.\n",
      "Action:\n",
      "```\n",
      "{\n",
      "  \"action\": \"Document QA\",\n",
      "  \"action_input\": \"What is the revenue for 2022 and 2023?\"\n",
      "}\n",
      "```\u001b[0m\n",
      "Observation: \u001b[38;5;200m\u001b[1;3mThe revenue for 2022 was $46,710 million and for 2023 it was $51,217 million.\u001b[0m\n",
      "Thought:\u001b[32;1m\u001b[1;3mNow that I have the revenue figures for both 2022 and 2023, I can calculate the revenue growth between these two years. I will use the Revenue Growth Calculator tool for this. The revenue for 2022 (the old revenue) is $46,710 million and for 2023 (the new revenue) is $51,217 million.\n",
      "Action:\n",
      "```\n",
      "{\n",
      "  \"action\": \"Revenue Growth Calculator\",\n",
      "  \"action_input\": {\"revenue_new\": 51217, \"revenue_old\": 46710}\n",
      "}\n",
      "```\n",
      "\u001b[0m\n",
      "Observation: \u001b[36;1m\u001b[1;3m9.648897452365661\u001b[0m\n",
      "Thought:\u001b[32;1m\u001b[1;3mThe Revenue Growth Calculator tool has provided the growth percentage as approximately 9.65%. I can now respond to the user with this information.\n",
      "Action:\n",
      "```\n",
      "{\n",
      "  \"action\": \"Final Answer\",\n",
      "  \"action_input\": \"The revenue growth between 2022 and 2023 was approximately 9.65%.\"\n",
      "}\n",
      "```\u001b[0m\n",
      "\n",
      "\u001b[1m> Finished chain.\u001b[0m\n",
      "The revenue growth between 2022 and 2023 was approximately 9.65%.\n"
     ]
    }
   ],
   "source": [
    "# Step 7: Ask the agent a question without revenue numbers\n",
    "input_query = \"What is the revenue growth between 2023 and 2022?\"\n",
    "\n",
    "# Step 8: Run the agent with the input query\n",
    "results = agent_chain.run(input_query)\n",
    "\n",
    "print(results)"
   ]
  },
  {
   "cell_type": "code",
   "execution_count": null,
   "metadata": {},
   "outputs": [],
   "source": []
  }
 ],
 "metadata": {
  "kernelspec": {
   "display_name": "llama_index_recursive",
   "language": "python",
   "name": "python3"
  },
  "language_info": {
   "codemirror_mode": {
    "name": "ipython",
    "version": 3
   },
   "file_extension": ".py",
   "mimetype": "text/x-python",
   "name": "python",
   "nbconvert_exporter": "python",
   "pygments_lexer": "ipython3",
   "version": "3.11.9"
  }
 },
 "nbformat": 4,
 "nbformat_minor": 2
}
