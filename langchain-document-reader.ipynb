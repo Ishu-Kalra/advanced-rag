{
 "cells": [
  {
   "cell_type": "code",
   "execution_count": 2,
   "metadata": {},
   "outputs": [
    {
     "name": "stdout",
     "output_type": "stream",
     "text": [
      "Note: you may need to restart the kernel to use updated packages.\n"
     ]
    }
   ],
   "source": [
    "%pip install -qU pypdf langchain_community"
   ]
  },
  {
   "cell_type": "code",
   "execution_count": 2,
   "metadata": {},
   "outputs": [
    {
     "name": "stdout",
     "output_type": "stream",
     "text": [
      "/Users/ishukalra/Documents/kaya/nlp-hands-on-projects/langchain-projects\n"
     ]
    }
   ],
   "source": [
    "!pwd"
   ]
  },
  {
   "cell_type": "code",
   "execution_count": 3,
   "metadata": {},
   "outputs": [
    {
     "name": "stdout",
     "output_type": "stream",
     "text": [
      "106\n"
     ]
    }
   ],
   "source": [
    "from langchain_community.document_loaders import PyPDFLoader\n",
    "\n",
    "file_path = \"../data/414759-1-_5_Nike-NPS-Combo_Form-10-K_WR.pdf\"\n",
    "loader = PyPDFLoader(file_path)\n",
    "\n",
    "docs = loader.load()\n",
    "\n",
    "print(len(docs))"
   ]
  },
  {
   "cell_type": "code",
   "execution_count": 5,
   "metadata": {},
   "outputs": [
    {
     "name": "stdout",
     "output_type": "stream",
     "text": [
      "FORM 10-K FORM 10-K\n",
      "{'source': '../data/414759-1-_5_Nike-NPS-Combo_Form-10-K_WR.pdf', 'page': 0}\n"
     ]
    }
   ],
   "source": [
    "print(docs[0].page_content[0:100])\n",
    "print(docs[0].metadata)"
   ]
  },
  {
   "cell_type": "code",
   "execution_count": 6,
   "metadata": {},
   "outputs": [
    {
     "name": "stdout",
     "output_type": "stream",
     "text": [
      "Note: you may need to restart the kernel to use updated packages.\n"
     ]
    }
   ],
   "source": [
    "%pip install -qU langchain-openai"
   ]
  },
  {
   "cell_type": "code",
   "execution_count": 9,
   "metadata": {},
   "outputs": [],
   "source": [
    "import getpass\n",
    "import os\n",
    "\n",
    "import os\n",
    "api_key = \"\"\n",
    "os.environ[\"OPENAI_API_KEY\"] = api_key\n",
    "os.environ[\"API_KEY_OPENAI\"] = api_key\n",
    "\n",
    "from langchain_openai import ChatOpenAI\n",
    "\n",
    "llm = ChatOpenAI(model=\"gpt-4o\")"
   ]
  },
  {
   "cell_type": "code",
   "execution_count": 12,
   "metadata": {},
   "outputs": [],
   "source": [
    "from langchain_core.vectorstores import InMemoryVectorStore\n",
    "from langchain_openai import OpenAIEmbeddings\n",
    "from langchain_text_splitters import RecursiveCharacterTextSplitter\n",
    "\n",
    "text_splitter = RecursiveCharacterTextSplitter(chunk_size=1000, chunk_overlap=200)\n",
    "splits = text_splitter.split_documents(docs)\n",
    "vectorstore = InMemoryVectorStore.from_documents(\n",
    "    documents=splits, embedding=OpenAIEmbeddings()\n",
    ")\n",
    "\n",
    "retriever = vectorstore.as_retriever()"
   ]
  },
  {
   "cell_type": "code",
   "execution_count": 13,
   "metadata": {},
   "outputs": [
    {
     "data": {
      "text/plain": [
       "{'input': \"What was Nike's revenue in 2023?\",\n",
       " 'context': [Document(id='27dd8352-85d8-4060-ad51-222268dec981', metadata={'source': '../data/414759-1-_5_Nike-NPS-Combo_Form-10-K_WR.pdf', 'page': 36}, page_content='FISCAL 2023 NIKE BRAND REVENUE HIGHLIGHTS\\nThe following tables present NIKE Brand revenues disaggregated by reportable operating segment, distribution channel and \\nmajor product line:\\nFISCAL 2023 COMPARED TO FISCAL 2022\\n•NIKE, Inc. Revenues were $51.2 billion in fiscal 2023, which increased 10% and 16% compared to fiscal 2022 on a reported \\nand currency-neutral basis, respectively. The increase was due to higher revenues in North America, Europe, Middle East & \\nAfrica (\"EMEA\"), APLA and Greater China, which contributed approximately 7, 6, 2 and 1 percentage points to NIKE, Inc. \\nRevenues, respectively. \\n•NIKE Brand revenues, which represented over 90% of NIKE, Inc. Revenues,  increased  10% and 16% on a reported and \\ncurrency-neutral basis, respectively. This increase was primarily due to higher revenues in Men\\'s, the Jordan Brand, \\nWomen\\'s and Kids\\' which grew 17%, 35%,11% and 10%, respectively, on a wholesale equivalent basis.'),\n",
       "  Document(id='7e5b61d1-f703-4f1f-9bb3-58b45314f2e8', metadata={'source': '../data/414759-1-_5_Nike-NPS-Combo_Form-10-K_WR.pdf', 'page': 31}, page_content='to-end technology foundation, which we believe will further accelerate our digital transformation. W e believe this unified approach \\nwill accelerate growth and unlock more efficiency for our business, while driving speed and responsiveness as we serve \\nconsumers globally.\\nFINANCIAL HIGHLIGHTS \\n•In fiscal 2023, NIKE, Inc. achieved record Revenues of $51.2 billion, which increased 10% and 16% on a reported and \\ncurrency-neutral basis, respectively \\n•NIKE Direct revenues grew 14% from $18.7 billion in fiscal 2022 to $21.3 billion in fiscal 2023, and represented \\napproximately 44% of total NIKE Brand revenues for fiscal 2023\\n•Gross margin for the fiscal year decreased 250 basis points to 43.5% primarily driven by higher product costs, higher \\nmarkdowns and unfavorable changes in foreign currency exchange rates, partially of fset by strategic pricing actions\\n•Inventories as of May 31, 2023 were $8.5 billion, flat compared to the prior year, driven by the actions we took throughout'),\n",
       "  Document(id='79e26d54-2828-4f9f-9b81-617313b580db', metadata={'source': '../data/414759-1-_5_Nike-NPS-Combo_Form-10-K_WR.pdf', 'page': 40}, page_content=\"NORTH AMERICA\\n(Dollars in millions) FISCAL 2023 FISCAL 2022 % CHANGE% CHANGE \\nEXCLUDING \\nCURRENCY \\nCHANGES FISCAL 2021 % CHANGE% CHANGE \\nEXCLUDING \\nCURRENCY \\nCHANGES\\nRevenues by:\\nFootwear $ 14,897 $ 12,228  22 %  22 % $ 11,644  5 %  5 %\\nApparel  5,947  5,492  8 %  9 %  5,028  9 %  9 %\\nEquipment  764  633  21 %  21 %  507  25 %  25 %\\nTOTAL REVENUES $ 21,608 $ 18,353  18 %  18 % $ 17,179  7 %  7 %\\nRevenues by:    \\nSales to Wholesale Customers $ 11,273 $ 9,621  17 %  18 % $ 10,186  -6 %  -6 %\\nSales through NIKE Direct  10,335  8,732  18 %  18 %  6,993  25 %  25 %\\nTOTAL REVENUES $ 21,608 $ 18,353  18 %  18 % $ 17,179  7 %  7 %\\nEARNINGS BEFORE INTEREST \\nAND TAXES $ 5,454 $ 5,114  7 % $ 5,089  0 %\\nFISCAL 2023 COMPARED TO FISCAL 2022\\n•North America revenues increased 18% on a currency-neutral basis, primarily due to higher revenues in Men's and the \\nJordan Brand. NIKE Direct revenues increased 18%, driven by strong digital sales growth of 23%, comparable store sales\"),\n",
       "  Document(id='2e9befab-6d71-43d3-8d24-5d7653e5f87d', metadata={'source': '../data/414759-1-_5_Nike-NPS-Combo_Form-10-K_WR.pdf', 'page': 41}, page_content=\"EUROPE, MIDDLE EAST & AFRICA\\n(Dollars in millions) FISCAL 2023 FISCAL 2022 % CHANGE% CHANGE \\nEXCLUDING \\nCURRENCY \\nCHANGES FISCAL 2021 % CHANGE% CHANGE \\nEXCLUDING \\nCURRENCY \\nCHANGES\\nRevenues by:\\nFootwear $ 8,260 $ 7,388  12 %  25 % $ 6,970  6 %  9 %\\nApparel  4,566  4,527  1 %  14 %  3,996  13 %  16 %\\nEquipment  592  564  5 %  18 %  490  15 %  17 %\\nTOTAL REVENUES $ 13,418 $ 12,479  8 %  21 % $ 11,456  9 %  12 %\\nRevenues by:    \\nSales to Wholesale Customers $ 8,522 $ 8,377  2 %  15 % $ 7,812  7 %  10 %\\nSales through NIKE Direct  4,896  4,102  19 %  33 %  3,644  13 %  15 %\\nTOTAL REVENUES $ 13,418 $ 12,479  8 %  21 % $ 11,456  9 %  12 %\\nEARNINGS BEFORE INTEREST \\nAND TAXES $ 3,531 $ 3,293  7 % $ 2,435  35 %  \\nFISCAL 2023 COMPARED TO FISCAL 2022  \\n•EMEA revenues increased 21% on a currency-neutral basis, due to higher revenues in Men's, the Jordan Brand, Women's \\nand Kids'. NIKE Direct revenues increased 33%, driven primarily by strong digital sales growth of 43% and comparable store\")],\n",
       " 'answer': \"Nike's revenue in fiscal 2023 was $51.2 billion.\"}"
      ]
     },
     "execution_count": 13,
     "metadata": {},
     "output_type": "execute_result"
    }
   ],
   "source": [
    "from langchain.chains import create_retrieval_chain\n",
    "from langchain.chains.combine_documents import create_stuff_documents_chain\n",
    "from langchain_core.prompts import ChatPromptTemplate\n",
    "\n",
    "system_prompt = (\n",
    "    \"You are an assistant for question-answering tasks. \"\n",
    "    \"Use the following pieces of retrieved context to answer \"\n",
    "    \"the question. If you don't know the answer, say that you \"\n",
    "    \"don't know. Use three sentences maximum and keep the \"\n",
    "    \"answer concise.\"\n",
    "    \"\\n\\n\"\n",
    "    \"{context}\"\n",
    ")\n",
    "\n",
    "prompt = ChatPromptTemplate.from_messages(\n",
    "    [\n",
    "        (\"system\", system_prompt),\n",
    "        (\"human\", \"{input}\"),\n",
    "    ]\n",
    ")\n",
    "\n",
    "\n",
    "question_answer_chain = create_stuff_documents_chain(llm, prompt)\n",
    "rag_chain = create_retrieval_chain(retriever, question_answer_chain)\n",
    "\n",
    "results = rag_chain.invoke({\"input\": \"What was Nike's revenue in 2023?\"})\n",
    "\n",
    "results"
   ]
  },
  {
   "cell_type": "code",
   "execution_count": null,
   "metadata": {},
   "outputs": [],
   "source": []
  }
 ],
 "metadata": {
  "kernelspec": {
   "display_name": "llama_index_recursive",
   "language": "python",
   "name": "python3"
  },
  "language_info": {
   "codemirror_mode": {
    "name": "ipython",
    "version": 3
   },
   "file_extension": ".py",
   "mimetype": "text/x-python",
   "name": "python",
   "nbconvert_exporter": "python",
   "pygments_lexer": "ipython3",
   "version": "3.11.9"
  }
 },
 "nbformat": 4,
 "nbformat_minor": 2
}
